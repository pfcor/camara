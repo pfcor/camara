{
 "cells": [
  {
   "cell_type": "code",
   "execution_count": 1,
   "metadata": {},
   "outputs": [],
   "source": [
    "import datetime as dt\n",
    "import requests\n",
    "import pandas as pd\n",
    "import numpy as np\n",
    "import matplotlib.pyplot as plt\n",
    "import seaborn as sns; sns.set_style('white')\n",
    "from pymongo import MongoClient\n",
    "\n",
    "%matplotlib inline"
   ]
  },
  {
   "cell_type": "code",
   "execution_count": 2,
   "metadata": {},
   "outputs": [],
   "source": [
    "connection_string = 'mongodb://connection:string' # mud\n",
    "db = MongoClient(connection_string)['camara']"
   ]
  },
  {
   "cell_type": "code",
   "execution_count": 4,
   "metadata": {},
   "outputs": [
    {
     "data": {
      "text/plain": [
       "[{'_id': 52, 'total': 626},\n",
       " {'_id': 54, 'total': 671},\n",
       " {'_id': 53, 'total': 636},\n",
       " {'_id': 55, 'total': 604}]"
      ]
     },
     "execution_count": 4,
     "metadata": {},
     "output_type": "execute_result"
    }
   ],
   "source": [
    "q = db.parlamentares.aggregate([\n",
    "    {\n",
    "        '$unwind': '$mandatos' # para separar cada legislatura em diferentes documentos\n",
    "    },{\n",
    "        '$group': {\n",
    "            '_id': '$mandatos.legislatura',\n",
    "            'total': {'$sum': 1}\n",
    "        }\n",
    "    }\n",
    "])\n",
    "\n",
    "list(q)"
   ]
  },
  {
   "cell_type": "code",
   "execution_count": 22,
   "metadata": {},
   "outputs": [],
   "source": [
    "q = db.parlamentares.aggregate([\n",
    "    {\n",
    "        '$unwind': '$mandatos'\n",
    "    },\n",
    "    {\n",
    "        '$project': {\n",
    "            '_id': 0,\n",
    "            'legislatura': '$mandatos.legislatura',\n",
    "            'homem': {'$cond': {'if': {'$eq': ['$sexo', 'M']}, 'then': 1, 'else': 0}},\n",
    "        }\n",
    "    },\n",
    "    {\n",
    "        '$group': {\n",
    "            '_id': '$legislatura',\n",
    "            'pct_homens': {'$avg': '$homem'},\n",
    "        }\n",
    "    },\n",
    "    {\n",
    "        '$sort': {'_id': 1}\n",
    "    }\n",
    "])\n",
    "\n",
    "generos = pd.DataFrame(list(q))\n",
    "generos.set_index('_id', inplace=True)\n",
    "generos['pct_mulheres'] = 1 - generos.pct_homens"
   ]
  },
  {
   "cell_type": "code",
   "execution_count": 23,
   "metadata": {},
   "outputs": [
    {
     "data": {
      "image/png": "[encoded data removed]",
      "text/plain": [
       "<matplotlib.figure.Figure at 0x7f5508f32f60>"
      ]
     },
     "metadata": {},
     "output_type": "display_data"
    }
   ],
   "source": [
    "sns.set_style('whitegrid')\n",
    "\n",
    "fig, ax = plt.subplots(figsize=(8, 3.5))\n",
    "generos.plot(ax=ax, style=['o-', 'x-'], ms=8)\n",
    "ax.legend(labels=['% Homens', '% Mulheres'], fontsize=13)\n",
    "\n",
    "ax.set_xticks(generos.index)\n",
    "ax.set_xlabel('Legislatura', size=14)\n",
    "\n",
    "ax.set_ylim(0, 1.1)\n",
    "ax.set_yticklabels('')\n",
    "\n",
    "for index, row in generos.iterrows():\n",
    "    ax.text(index, row.pct_homens + 0.06, '{:0.1f}%'.format(row.pct_homens*100), ha='center', size=14)\n",
    "    ax.text(index, row.pct_mulheres + 0.06, '{:0.1f}%'.format(row.pct_mulheres*100), ha='center', size=14)\n",
    "    \n",
    "ax.set_title('Representação de Gênero :: Câmara dos Deputados\\n', size=16)\n",
    "\n",
    "sns.despine(left=True, bottom=True)\n",
    "ax.xaxis.grid(False)\n",
    "\n",
    "plt.savefig('genero2.png', bbox_inches='tight')"
   ]
  },
  {
   "cell_type": "code",
   "execution_count": 143,
   "metadata": {},
   "outputs": [
    {
     "data": {
      "text/html": [
       "<div>\n",
       "<style scoped>\n",
       "    .dataframe tbody tr th:only-of-type {\n",
       "        vertical-align: middle;\n",
       "    }\n",
       "\n",
       "    .dataframe tbody tr th {\n",
       "        vertical-align: top;\n",
       "    }\n",
       "\n",
       "    .dataframe thead th {\n",
       "        text-align: right;\n",
       "    }\n",
       "</style>\n",
       "<table border=\"1\" class=\"dataframe\">\n",
       "  <thead>\n",
       "    <tr style=\"text-align: right;\">\n",
       "      <th></th>\n",
       "      <th>_id</th>\n",
       "      <th>desvio</th>\n",
       "      <th>media_etaria</th>\n",
       "    </tr>\n",
       "  </thead>\n",
       "  <tbody>\n",
       "    <tr>\n",
       "      <th>0</th>\n",
       "      <td>52</td>\n",
       "      <td>9.870822</td>\n",
       "      <td>50.298722</td>\n",
       "    </tr>\n",
       "    <tr>\n",
       "      <th>1</th>\n",
       "      <td>53</td>\n",
       "      <td>10.877057</td>\n",
       "      <td>51.116352</td>\n",
       "    </tr>\n",
       "    <tr>\n",
       "      <th>2</th>\n",
       "      <td>54</td>\n",
       "      <td>11.362555</td>\n",
       "      <td>51.472429</td>\n",
       "    </tr>\n",
       "    <tr>\n",
       "      <th>3</th>\n",
       "      <td>55</td>\n",
       "      <td>12.030741</td>\n",
       "      <td>51.079470</td>\n",
       "    </tr>\n",
       "  </tbody>\n",
       "</table>\n",
       "</div>"
      ],
      "text/plain": [
       "   _id     desvio  media_etaria\n",
       "0   52   9.870822     50.298722\n",
       "1   53  10.877057     51.116352\n",
       "2   54  11.362555     51.472429\n",
       "3   55  12.030741     51.079470"
      ]
     },
     "execution_count": 143,
     "metadata": {},
     "output_type": "execute_result"
    }
   ],
   "source": [
    "q = db.parlamentares.aggregate([\n",
    "    {\n",
    "        '$unwind': '$mandatos'\n",
    "    },\n",
    "    {\n",
    "        '$project': {\n",
    "            '_id': 0,\n",
    "            'sexo': 1,\n",
    "            'legislatura': '$mandatos.legislatura',\n",
    "            'idade': {'$floor': {'$divide': [{'$subtract': ['$mandatos.dataInicio', '$dataNascimento']}, 1000*60*60*24*365]}},\n",
    "        }\n",
    "    },\n",
    "    {\n",
    "        '$group': {\n",
    "            '_id': '$legislatura',\n",
    "            'media_etaria': {'$avg': '$idade'},\n",
    "            'desvio': {'$stdDevPop': '$idade'}\n",
    "        }\n",
    "    },{\n",
    "        '$sort': {'_id': 1}\n",
    "    }\n",
    "])\n",
    "\n",
    "idades = pd.DataFrame(list(q))\n",
    "idades"
   ]
  },
  {
   "cell_type": "code",
   "execution_count": 161,
   "metadata": {},
   "outputs": [
    {
     "data": {
      "image/png": "[encoded data removed]",
      "text/plain": [
       "<matplotlib.figure.Figure at 0x7f54ec8f9128>"
      ]
     },
     "metadata": {},
     "output_type": "display_data"
    }
   ],
   "source": [
    "fig, ax = plt.subplots(figsize=(8, 3.5))\n",
    "\n",
    "idades.media_etaria.plot.bar(ax=ax, color='#37598e', rot=0, alpha=0.5, label='Média Etária')\n",
    "idades.desvio.plot(ax=ax, color='#02750a', ls='--', marker='.', ms=12, label='Desvio Padrão')\n",
    "ax.legend(loc=(1.02, 0.75), fontsize=12)\n",
    "\n",
    "ax.set_ylim(0, idades.media_etaria.max()*1.2)\n",
    "ax.set_yticklabels(\"\")\n",
    "\n",
    "ax.set_xticklabels(idades._id, size=14)\n",
    "ax.set_xlabel('Legislaturas', size=12)\n",
    "\n",
    "for index, row in idades.iterrows():\n",
    "    ax.text(index, row.media_etaria + 2, '{:.2f}'.format(row.media_etaria), ha='center', size=16)\n",
    "    ax.text(index, row.desvio + 2, '{:.2f}'.format(row.desvio), ha='center', size=16, color='#02750a')\n",
    "    \n",
    "ax.set_title('Idade Média :: Câmara dos Deputados\\n', size=16)\n",
    "\n",
    "sns.despine(left=True)\n",
    "\n",
    "plt.savefig('idade.png', bbox_inches='tight')"
   ]
  },
  {
   "cell_type": "code",
   "execution_count": 10,
   "metadata": {},
   "outputs": [
    {
     "data": {
      "text/html": [
       "<div>\n",
       "<style scoped>\n",
       "    .dataframe tbody tr th:only-of-type {\n",
       "        vertical-align: middle;\n",
       "    }\n",
       "\n",
       "    .dataframe tbody tr th {\n",
       "        vertical-align: top;\n",
       "    }\n",
       "\n",
       "    .dataframe thead th {\n",
       "        text-align: right;\n",
       "    }\n",
       "</style>\n",
       "<table border=\"1\" class=\"dataframe\">\n",
       "  <thead>\n",
       "    <tr style=\"text-align: right;\">\n",
       "      <th></th>\n",
       "      <th>idade</th>\n",
       "      <th>legislatura</th>\n",
       "    </tr>\n",
       "  </thead>\n",
       "  <tbody>\n",
       "    <tr>\n",
       "      <th>0</th>\n",
       "      <td>52.0</td>\n",
       "      <td>55</td>\n",
       "    </tr>\n",
       "    <tr>\n",
       "      <th>1</th>\n",
       "      <td>54.0</td>\n",
       "      <td>53</td>\n",
       "    </tr>\n",
       "    <tr>\n",
       "      <th>2</th>\n",
       "      <td>58.0</td>\n",
       "      <td>54</td>\n",
       "    </tr>\n",
       "    <tr>\n",
       "      <th>3</th>\n",
       "      <td>54.0</td>\n",
       "      <td>53</td>\n",
       "    </tr>\n",
       "    <tr>\n",
       "      <th>4</th>\n",
       "      <td>58.0</td>\n",
       "      <td>54</td>\n",
       "    </tr>\n",
       "  </tbody>\n",
       "</table>\n",
       "</div>"
      ],
      "text/plain": [
       "   idade  legislatura\n",
       "0   52.0           55\n",
       "1   54.0           53\n",
       "2   58.0           54\n",
       "3   54.0           53\n",
       "4   58.0           54"
      ]
     },
     "execution_count": 10,
     "metadata": {},
     "output_type": "execute_result"
    }
   ],
   "source": [
    "q = db.parlamentares.aggregate([\n",
    "    {\n",
    "        '$unwind': '$mandatos'\n",
    "    },\n",
    "    {\n",
    "        '$project': {\n",
    "            '_id': 0,\n",
    "            'legislatura': '$mandatos.legislatura',\n",
    "            'idade': {'$floor': {'$divide': [{'$subtract': ['$mandatos.dataInicio', '$dataNascimento']}, 1000*60*60*24*365]}},\n",
    "        }\n",
    "    }\n",
    "])\n",
    "\n",
    "b = pd.DataFrame(list(q))\n",
    "b.head()"
   ]
  },
  {
   "cell_type": "code",
   "execution_count": 26,
   "metadata": {},
   "outputs": [
    {
     "data": {
      "image/png": "[encoded data removed]",
      "text/plain": [
       "<matplotlib.figure.Figure at 0x7fa1e4db67b8>"
      ]
     },
     "metadata": {},
     "output_type": "display_data"
    }
   ],
   "source": [
    "fig, ax = plt.subplots(figsize=(8, 6))\n",
    "b.boxplot(by='legislatura', ax=ax)\n",
    "ax.set_title('Idade')\n",
    "ax.set_xlabel(\"Legislatura\")\n",
    "ax.set_ylabel('Idade (anos)')\n",
    "plt.savefig('box.png', bbox_inches='tight')"
   ]
  },
  {
   "cell_type": "code",
   "execution_count": null,
   "metadata": {},
   "outputs": [],
   "source": []
  }
 ],
 "metadata": {
  "kernelspec": {
   "display_name": "Python 3",
   "language": "python",
   "name": "python3"
  },
  "language_info": {
   "codemirror_mode": {
    "name": "ipython",
    "version": 3
   },
   "file_extension": ".py",
   "mimetype": "text/x-python",
   "name": "python",
   "nbconvert_exporter": "python",
   "pygments_lexer": "ipython3",
   "version": "3.6.3"
  }
 },
 "nbformat": 4,
 "nbformat_minor": 2
}
